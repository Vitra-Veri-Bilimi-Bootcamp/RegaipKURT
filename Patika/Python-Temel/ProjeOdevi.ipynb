{
 "cells": [
  {
   "cell_type": "markdown",
   "metadata": {},
   "source": [
    "1 - Bir listeyi düzleştiren (flatten) fonksiyon yazın. Elemanları birden çok katmanlı listtlerden ([[3],2] gibi) oluşabileceği gibi, non-scalar verilerden de oluşabilir. Örnek olarak:\n",
    "input: [[1,'a',['cat'],2],[[[3]],'dog'],4,5]\n",
    "\n",
    "output: [1,'a','cat',2,3,'dog',4,5]\n",
    "\n",
    "2- Verilen listenin içindeki elemanları tersine döndüren bir fonksiyon yazın. Eğer listenin içindeki elemanlar da liste içeriyorsa onların elemanlarını da tersine döndürün. Örnek olarak:\n",
    "input: [[1, 2], [3, 4], [5, 6, 7]]\n",
    "\n",
    "output: [[[7, 6, 5], [4, 3], [2, 1]]"
   ]
  },
  {
   "cell_type": "markdown",
   "metadata": {},
   "source": [
    "## 1.Problem\n",
    "İlk örneği yapmak için 'recursive' fonksiyonlardan yararlanacağız. Böylece derinliğinin ne olduğu farketmeksizin bize verilen herhangi bir listeyi düzleştirebiliriz. Bunun için tanımlayacağımız fonksiyon aşağıdaki gibi oalcak."
   ]
  },
  {
   "cell_type": "code",
   "execution_count": 18,
   "metadata": {},
   "outputs": [],
   "source": [
    "result = []\n",
    "def flatten(l):\n",
    "    if type(l) != list:\n",
    "        result.append(l)\n",
    "    else:\n",
    "        for i in l:\n",
    "            flatten(i)\n",
    "    return result"
   ]
  },
  {
   "cell_type": "markdown",
   "metadata": {},
   "source": [
    "Yukarıdaki bir fonksiyon ve liste tanımladık. Eğer bize verilen eleman bir liste değil ise onu res listesine ekleyeceğiz. Eğer liste ise bunun içinde aynı fonksiyonu çağırıp dönerek, liste içindeki diğer verilere ulaşana kadar devam edecek ve sonunda bu elemanları result listesine ekleyeceğiz. Örnek listemizi alıp deneyelim."
   ]
  },
  {
   "cell_type": "code",
   "execution_count": 19,
   "metadata": {},
   "outputs": [
    {
     "name": "stdout",
     "output_type": "stream",
     "text": [
      "[1, 'a', 'cat', 2, 3, 'dog', 4, 5]\n"
     ]
    }
   ],
   "source": [
    "my_list =  [[1,'a',['cat'],2],[[[3]],'dog'],4,5]\n",
    "\n",
    "print(flatten(my_list))"
   ]
  },
  {
   "cell_type": "markdown",
   "metadata": {},
   "source": [
    "Gördüğümüz gibi birinci problemimiz recursive (kendini tekrar eden) bir fonksiyon tanımlayarak çözüldü. Askeri veya güvenlik odaklı projeler dışında recursive fonksiyonlar kullanılabilir. Askeri-Güvenlik projelerinde kullanılmamasının sebebi ise; bu fonksiyonlar ya sonsuz döngüye girme ihtimali taşır ya da en iyi ihtimalle programlama dilinde tanımlanan bir öndeğer kadar iteratif işlem yaparlar. Python öntanımlı recursive değeri 1000 civarında bir değer olarak tanımlamıştır. Yani bu fonksiyon en fazla 1000 defa kendini çağırabilir. Sonrasında çalışmayı durdurur."
   ]
  },
  {
   "cell_type": "markdown",
   "metadata": {},
   "source": [
    "## 2. Problem\n",
    "Yukarıda anlattığımız recursive programlama mantığıyla ikinci problemi de rahatlıkla çözebiliriz. Aşağıda yaptıklarımızı sırasıyla nalatacak olursak:\n",
    "1- makeReversed fonksiyonu bir liste alıp elemanlarından herhangi birisinin liste tipinde olup olmadığını kontrol eder. Eğer listenin içinde başka bir liste yoksa listeyi ters çevirip döndürür.\n",
    "2- Eğer listenin içinde başka listeler varsa for döngüsü çalışır.\n",
    "3- Liste tipindeki elemana gelindiğinde yeniden makeReversed fonksiyonuna gönderilir ve dönen hali ilgili index'teki elemana eşitlenir."
   ]
  },
  {
   "cell_type": "code",
   "execution_count": 46,
   "metadata": {},
   "outputs": [],
   "source": [
    "def makeReversed(l:list):\n",
    "    if any([type(x) == list for x in l]):\n",
    "        for x in l:\n",
    "            if type(x) == list:\n",
    "                l[l.index(x)] = makeReversed(x)\n",
    "    return l[::-1]"
   ]
  },
  {
   "cell_type": "code",
   "execution_count": 47,
   "metadata": {},
   "outputs": [
    {
     "name": "stdout",
     "output_type": "stream",
     "text": [
      "[[7, 6, 5], [4, 3], [2, 1]]\n"
     ]
    }
   ],
   "source": [
    "flat_list =  [[1, 2], [3, 4], [5, 6, 7]]\n",
    "print(list(makeReversed(flat_list)))"
   ]
  },
  {
   "cell_type": "markdown",
   "metadata": {},
   "source": [
    "Yukarıdaki durumda herhangi bir liste elemana rastlandığında tekrar makeReversed çalıştırılır. Böylece ters çevirilmemiş bir liste kalmamış olur."
   ]
  },
  {
   "cell_type": "code",
   "execution_count": null,
   "metadata": {},
   "outputs": [],
   "source": []
  }
 ],
 "metadata": {
  "kernelspec": {
   "display_name": "Python 3",
   "language": "python",
   "name": "python3"
  },
  "language_info": {
   "codemirror_mode": {
    "name": "ipython",
    "version": 3
   },
   "file_extension": ".py",
   "mimetype": "text/x-python",
   "name": "python",
   "nbconvert_exporter": "python",
   "pygments_lexer": "ipython3",
   "version": "3.8.5"
  }
 },
 "nbformat": 4,
 "nbformat_minor": 4
}
